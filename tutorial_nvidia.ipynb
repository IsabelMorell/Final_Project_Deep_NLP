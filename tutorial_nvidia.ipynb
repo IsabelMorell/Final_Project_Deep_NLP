{
 "cells": [
  {
   "cell_type": "markdown",
   "id": "c889d159",
   "metadata": {},
   "source": [
    "### pasos para ejecutar algo aqui de cero\n",
    "1. Pegar las siguientes 2 líneas de codigo en una celda y ejecutarlas\n",
    "\n",
    "import sys\n",
    "\n",
    "!{sys.executable} -m ipykernel install --user --name=venv --display-name \"env_NLP\"\n",
    "\n",
    "2. recargar jupyter\n",
    "\n",
    "3. arriba donde pone el kernel seleccionar el nuevo creado\n",
    "\n",
    "4. arrastrar a la izquierda las carpetas de data y src así como el fichero requirements.txt y este notebook. ¡¡¡IMPORTANTE!!! Revisar que los ultimos cambios se hayan subido bien al servidor. Por ejemplo, comprobar que en la línea 62 del fichero train.py está escrito lo siguiente: model.to(device) y revisar los hiperparámetros\n",
    "\n",
    "5. Ejecutar en una celda el siguiente comando\n",
    "\n",
    "!pip install -r requirements.txt\n",
    "\n",
    "6. Ejecutar en una celda el siguiente comando\n",
    "\n",
    "!python -m spacy download en_core_web_lg\n",
    "\n",
    "7. Ejecutar las dos celdas que hay abajo para entrenar el modelo (saltan algunos warnings pero no pasa nada)\n",
    "\n",
    "8. ¡¡¡IMPORTANTE!!! Descargar la carpeta runs y la carpeta models y guardarlas en la carpeta local donde tengais el repo de github. Una vez teneis eso en local, da más igual si lo subís a github o no así q eso lo hablamos cuando querais.\n",
    "\n",
    "NOTA: si cambiais algo en algun .py teneis que reiniciar el kernel y volver a importar el main\n",
    "\n",
    "NOTA2: no he conseguido abrir tensorboard pero como se guarda la carpeta runs, luego lo podemos ver en local"
   ]
  },
  {
   "cell_type": "code",
   "execution_count": null,
   "id": "64408760",
   "metadata": {
    "vscode": {
     "languageId": "plaintext"
    }
   },
   "outputs": [],
   "source": [
    "from src.train import main\n",
    "from src.evaluate import evaluate\n",
    "from src.utils import ENTITY2INDEX, return_index2label"
   ]
  },
  {
   "cell_type": "code",
   "execution_count": null,
   "id": "5b621f50",
   "metadata": {
    "vscode": {
     "languageId": "plaintext"
    }
   },
   "outputs": [],
   "source": [
    "main()"
   ]
  },
  {
   "cell_type": "code",
   "execution_count": null,
   "id": "971d3339",
   "metadata": {
    "vscode": {
     "languageId": "plaintext"
    }
   },
   "outputs": [],
   "source": [
    "accuracy_ner, accuracy_sa, test_accuracy_ner = evaluate('model_lr_0.001_hs_256_128_30_20_2')\n",
    "print(f\"accuracy_ner: {accuracy_ner}\")\n",
    "print(f\"accuracy_sa: {accuracy_sa}\")\n",
    "\n",
    "correct_ner_occurrences, ner_occurrences = test_accuracy_ner.ner_entities_accuracy()\n",
    "idx2entity = return_index2label(ENTITY2INDEX)\n",
    "for idx, entity in idx2entity.items():\n",
    "    print(f\"Entity {entity}: {correct_ner_occurrences[idx]}/{ner_occurrences[idx]}\")"
   ]
  }
 ],
 "metadata": {
  "language_info": {
   "name": "python"
  }
 },
 "nbformat": 4,
 "nbformat_minor": 5
}
