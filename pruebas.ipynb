{
 "cells": [
  {
   "cell_type": "code",
   "execution_count": 14,
   "metadata": {},
   "outputs": [],
   "source": [
    "# import libraries\n",
    "from datasets import load_dataset\n",
    "from textblob import TextBlob\n",
    "import os"
   ]
  },
  {
   "cell_type": "code",
   "execution_count": 15,
   "metadata": {},
   "outputs": [],
   "source": [
    "# download dataset\n",
    "ds = load_dataset(\"tner/ontonotes5\")"
   ]
  },
  {
   "cell_type": "code",
   "execution_count": 16,
   "metadata": {},
   "outputs": [],
   "source": [
    "entity2tag = {\n",
    "    \"O\": 0,\n",
    "    \"B-CARDINAL\": 1,\n",
    "    \"B-DATE\": 2,\n",
    "    \"I-DATE\": 3,\n",
    "    \"B-PERSON\": 4,\n",
    "    \"I-PERSON\": 5,\n",
    "    \"B-NORP\": 6,\n",
    "    \"B-GPE\": 7,\n",
    "    \"I-GPE\": 8,\n",
    "    \"B-LAW\": 9,\n",
    "    \"I-LAW\": 10,\n",
    "    \"B-ORG\": 11,\n",
    "    \"I-ORG\": 12, \n",
    "    \"B-PERCENT\": 13,\n",
    "    \"I-PERCENT\": 14, \n",
    "    \"B-ORDINAL\": 15, \n",
    "    \"B-MONEY\": 16, \n",
    "    \"I-MONEY\": 17, \n",
    "    \"B-WORK_OF_ART\": 18, \n",
    "    \"I-WORK_OF_ART\": 19, \n",
    "    \"B-FAC\": 20, \n",
    "    \"B-TIME\": 21, \n",
    "    \"I-CARDINAL\": 22, \n",
    "    \"B-LOC\": 23, \n",
    "    \"B-QUANTITY\": 24, \n",
    "    \"I-QUANTITY\": 25, \n",
    "    \"I-NORP\": 26, \n",
    "    \"I-LOC\": 27, \n",
    "    \"B-PRODUCT\": 28, \n",
    "    \"I-TIME\": 29, \n",
    "    \"B-EVENT\": 30,\n",
    "    \"I-EVENT\": 31,\n",
    "    \"I-FAC\": 32,\n",
    "    \"B-LANGUAGE\": 33,\n",
    "    \"I-PRODUCT\": 34,\n",
    "    \"I-ORDINAL\": 35,\n",
    "    \"I-LANGUAGE\": 36\n",
    "}\n"
   ]
  },
  {
   "cell_type": "code",
   "execution_count": 17,
   "metadata": {},
   "outputs": [
    {
     "name": "stdout",
     "output_type": "stream",
     "text": [
      "                                              tokens  \\\n",
      "0  [People, start, their, own, businesses, for, m...   \n",
      "1  [But, a, chance, to, fill, out, sales, -, tax,...   \n",
      "2  [Red, tape, is, the, bugaboo, of, small, busin...   \n",
      "3  [Ironically, ,, the, person, who, wants, to, r...   \n",
      "4  [Yet, every, business, owner, has, to, face, t...   \n",
      "\n",
      "                                                tags  \n",
      "0                        [0, 0, 0, 0, 0, 0, 0, 0, 0]  \n",
      "1   [0, 0, 0, 0, 0, 0, 0, 0, 0, 0, 0, 0, 1, 0, 0, 0]  \n",
      "2                        [0, 0, 0, 0, 0, 0, 0, 0, 0]  \n",
      "3  [0, 0, 0, 0, 0, 0, 0, 0, 0, 0, 0, 0, 0, 0, 0, ...  \n",
      "4  [0, 0, 0, 0, 0, 0, 0, 0, 0, 0, 0, 0, 0, 0, 0, ...  \n"
     ]
    }
   ],
   "source": [
    "df_train = ds[\"train\"].to_pandas()\n",
    "df_val = ds[\"validation\"].to_pandas()\n",
    "df_test = ds[\"test\"].to_pandas()\n",
    "\n",
    "print(df_train.head())"
   ]
  },
  {
   "cell_type": "code",
   "execution_count": 18,
   "metadata": {},
   "outputs": [],
   "source": [
    "def analyze_sentiment(text):\n",
    "    polarity = TextBlob(text).sentiment.polarity\n",
    "    if polarity < 0:\n",
    "        return 0  # Negativo\n",
    "    elif polarity == 0:\n",
    "        return 1  # Neutro\n",
    "    else:\n",
    "        return 2  # Positivo\n",
    "        \n",
    "def process_sentences(df):\n",
    "    # Crear la columna 'sentence' uniendo los tokens\n",
    "    df[\"sentence\"] = df[\"tokens\"].apply(lambda x: \" \".join(x))\n",
    "\n",
    "    # Aplicar análisis de sentimiento\n",
    "    df[\"SA\"] = df[\"sentence\"].apply(analyze_sentiment)\n",
    "    \n",
    "    return df\n",
    "\n",
    "# Aplicar a cada dataset\n",
    "df_train = process_sentences(df_train)\n",
    "df_val = process_sentences(df_val)\n",
    "df_test = process_sentences(df_test)"
   ]
  },
  {
   "cell_type": "code",
   "execution_count": 20,
   "metadata": {},
   "outputs": [],
   "source": [
    "# save data in .csv\n",
    "if not os.path.exists(\"data\"):\n",
    "    os.makedirs(\"data\")\n",
    "\n",
    "df_train.to_csv(f\"data/df_train.csv\", index=False)\n",
    "df_val.to_csv(f\"data/df_val.csv\", index=False)\n",
    "df_test.to_csv(f\"data/df_test.csv\", index=False)"
   ]
  }
 ],
 "metadata": {
  "kernelspec": {
   "display_name": "base",
   "language": "python",
   "name": "python3"
  },
  "language_info": {
   "codemirror_mode": {
    "name": "ipython",
    "version": 3
   },
   "file_extension": ".py",
   "mimetype": "text/x-python",
   "name": "python",
   "nbconvert_exporter": "python",
   "pygments_lexer": "ipython3",
   "version": "3.9.12"
  }
 },
 "nbformat": 4,
 "nbformat_minor": 2
}
