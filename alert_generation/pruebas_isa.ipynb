{
 "cells": [
  {
   "cell_type": "code",
   "execution_count": 1,
   "metadata": {},
   "outputs": [],
   "source": [
    "# import libraries\n",
    "import torch"
   ]
  },
  {
   "cell_type": "code",
   "execution_count": 2,
   "metadata": {},
   "outputs": [],
   "source": [
    "ENTITY2INDEX = {\n",
    "    \"O\": 0,\n",
    "    \"B-CARDINAL\": 1,\n",
    "    \"B-DATE\": 2,\n",
    "    \"I-DATE\": 3,\n",
    "    \"B-PERSON\": 4,\n",
    "    \"I-PERSON\": 5,\n",
    "    \"B-NORP\": 6,\n",
    "    \"B-GPE\": 7,\n",
    "    \"I-GPE\": 8,\n",
    "    \"B-LAW\": 9,\n",
    "    \"I-LAW\": 10,\n",
    "    \"B-ORG\": 11,\n",
    "    \"I-ORG\": 12, \n",
    "    \"B-PERCENT\": 13,\n",
    "    \"I-PERCENT\": 14, \n",
    "    \"B-ORDINAL\": 15, \n",
    "    \"B-MONEY\": 16, \n",
    "    \"I-MONEY\": 17, \n",
    "    \"B-WORK_OF_ART\": 18, \n",
    "    \"I-WORK_OF_ART\": 19, \n",
    "    \"B-FAC\": 20, \n",
    "    \"B-TIME\": 21, \n",
    "    \"I-CARDINAL\": 22, \n",
    "    \"B-LOC\": 23, \n",
    "    \"B-QUANTITY\": 24, \n",
    "    \"I-QUANTITY\": 25, \n",
    "    \"I-NORP\": 26, \n",
    "    \"I-LOC\": 27, \n",
    "    \"B-PRODUCT\": 28, \n",
    "    \"I-TIME\": 29, \n",
    "    \"B-EVENT\": 30,\n",
    "    \"I-EVENT\": 31,\n",
    "    \"I-FAC\": 32,\n",
    "    \"B-LANGUAGE\": 33,\n",
    "    \"I-PRODUCT\": 34,\n",
    "    \"I-ORDINAL\": 35,\n",
    "    \"I-LANGUAGE\": 36\n",
    "}\n",
    "\n",
    "SA2INDEX = {\"negative\": 0, \"neutral\": 1, \"positive\": 2}"
   ]
  },
  {
   "cell_type": "code",
   "execution_count": 3,
   "metadata": {},
   "outputs": [],
   "source": [
    "def return_index2label(label2index: dict) -> dict:\n",
    "    index2label = {}\n",
    "    for label in label2index:\n",
    "        index = label2index[label]\n",
    "        index2label[index] = label\n",
    "    return index2label"
   ]
  },
  {
   "cell_type": "code",
   "execution_count": 4,
   "metadata": {},
   "outputs": [
    {
     "data": {
      "text/plain": [
       "{0: 'negative', 1: 'neutral', 2: 'positive'}"
      ]
     },
     "execution_count": 4,
     "metadata": {},
     "output_type": "execute_result"
    }
   ],
   "source": [
    "INDEX2ENTITY = return_index2label(ENTITY2INDEX)\n",
    "INDEX2SA = return_index2label(SA2INDEX)\n",
    "INDEX2SA"
   ]
  },
  {
   "cell_type": "code",
   "execution_count": 5,
   "metadata": {},
   "outputs": [],
   "source": [
    "def most_probable_entity(logits: torch.Tensor, index2entity: dict) -> str:\n",
    "    idx_most_probable: int = torch.argmax(logits).item()\n",
    "    entity: str = index2entity[idx_most_probable]\n",
    "    return entity"
   ]
  },
  {
   "cell_type": "code",
   "execution_count": 6,
   "metadata": {},
   "outputs": [
    {
     "data": {
      "text/plain": [
       "'positive'"
      ]
     },
     "execution_count": 6,
     "metadata": {},
     "output_type": "execute_result"
    }
   ],
   "source": [
    "logits = torch.tensor([0.2, 0.1, 0.7])\n",
    "most_probable_entity(logits, INDEX2SA)"
   ]
  },
  {
   "cell_type": "code",
   "execution_count": 8,
   "metadata": {},
   "outputs": [],
   "source": [
    "def add_ner_to_sentence(sentence: str, ner_tags: list) -> str:\n",
    "    ner_sentence = \"\"\n",
    "    for i, word in enumerate(sentence.split(\" \")):\n",
    "        ner_sentence += f\"{word} ({ner_tags[i]})\"\n",
    "        if i != (len(ner_tags) - 1):\n",
    "            ner_sentence += \" \"\n",
    "\n",
    "    return ner_sentence"
   ]
  },
  {
   "cell_type": "code",
   "execution_count": 9,
   "metadata": {},
   "outputs": [
    {
     "data": {
      "text/plain": [
       "'Child (B-PER) murdered (O) in (O) Florida (B-LOC)'"
      ]
     },
     "execution_count": 9,
     "metadata": {},
     "output_type": "execute_result"
    }
   ],
   "source": [
    "\"Child (B-PER) murdered (O) in (O) Florida (B-LOC)\"\n",
    "\n",
    "sentence = \"Child murdered in Florida\"\n",
    "ner_tags = [\"B-PER\", \"O\", \"O\", \"B-LOC\"]\n",
    "\n",
    "add_ner_to_sentence(sentence, ner_tags)"
   ]
  },
  {
   "cell_type": "markdown",
   "metadata": {},
   "source": [
    "Here is a possible alert:\n",
    "\"CIVIL RIGHTS ADVANCEMENT: England celebrates POSITIVE milestone with legalization of gay marriage!\\\"\n",
    "\n",
    "This alert mentions the entity type of the subject, which is a location (England) and an event (gay marriage), and also conveys the positive sentiment (SA = positive) of the sentence. \n",
    "\n",
    "Alternatively, another possible alert could be:\n",
    "\n",
    "\"HISTORIC VICTORY: England makes PROGRESS with POSITIVE step towards equality by legalizing gay marriage!\n",
    "\n",
    "This alert also highlights the positive sentiment and mentions the location (England) and the event (gay marriage), emphasizing the historic and progressive nature of the development."
   ]
  }
 ],
 "metadata": {
  "kernelspec": {
   "display_name": "venv-nlp",
   "language": "python",
   "name": "python3"
  },
  "language_info": {
   "codemirror_mode": {
    "name": "ipython",
    "version": 3
   },
   "file_extension": ".py",
   "mimetype": "text/x-python",
   "name": "python",
   "nbconvert_exporter": "python",
   "pygments_lexer": "ipython3",
   "version": "3.10.12"
  }
 },
 "nbformat": 4,
 "nbformat_minor": 2
}
