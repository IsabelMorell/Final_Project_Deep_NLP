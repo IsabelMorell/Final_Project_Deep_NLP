{
 "cells": [
  {
   "cell_type": "code",
   "execution_count": 1,
   "metadata": {},
   "outputs": [],
   "source": [
    "# import libraries"
   ]
  },
  {
   "cell_type": "code",
   "execution_count": 2,
   "metadata": {},
   "outputs": [],
   "source": [
    "ENTITY2INDEX = {\n",
    "    \"O\": 0,\n",
    "    \"B-CARDINAL\": 1,\n",
    "    \"B-DATE\": 2,\n",
    "    \"I-DATE\": 3,\n",
    "    \"B-PERSON\": 4,\n",
    "    \"I-PERSON\": 5,\n",
    "    \"B-NORP\": 6,\n",
    "    \"B-GPE\": 7,\n",
    "    \"I-GPE\": 8,\n",
    "    \"B-LAW\": 9,\n",
    "    \"I-LAW\": 10,\n",
    "    \"B-ORG\": 11,\n",
    "    \"I-ORG\": 12, \n",
    "    \"B-PERCENT\": 13,\n",
    "    \"I-PERCENT\": 14, \n",
    "    \"B-ORDINAL\": 15, \n",
    "    \"B-MONEY\": 16, \n",
    "    \"I-MONEY\": 17, \n",
    "    \"B-WORK_OF_ART\": 18, \n",
    "    \"I-WORK_OF_ART\": 19, \n",
    "    \"B-FAC\": 20, \n",
    "    \"B-TIME\": 21, \n",
    "    \"I-CARDINAL\": 22, \n",
    "    \"B-LOC\": 23, \n",
    "    \"B-QUANTITY\": 24, \n",
    "    \"I-QUANTITY\": 25, \n",
    "    \"I-NORP\": 26, \n",
    "    \"I-LOC\": 27, \n",
    "    \"B-PRODUCT\": 28, \n",
    "    \"I-TIME\": 29, \n",
    "    \"B-EVENT\": 30,\n",
    "    \"I-EVENT\": 31,\n",
    "    \"I-FAC\": 32,\n",
    "    \"B-LANGUAGE\": 33,\n",
    "    \"I-PRODUCT\": 34,\n",
    "    \"I-ORDINAL\": 35,\n",
    "    \"I-LANGUAGE\": 36\n",
    "}\n",
    "\n",
    "SA2INDEX = {\"Negative\": 0, \"Neutral\": 1, \"Positive\": 2}"
   ]
  },
  {
   "cell_type": "code",
   "execution_count": 3,
   "metadata": {},
   "outputs": [],
   "source": [
    "def return_index2label(label2index: dict) -> dict:\n",
    "    index2label = {}\n",
    "    for label in label2index:\n",
    "        index = label2index[label]\n",
    "        index2label[index] = label\n",
    "    return index2label"
   ]
  },
  {
   "cell_type": "code",
   "execution_count": 6,
   "metadata": {},
   "outputs": [
    {
     "data": {
      "text/plain": [
       "{0: 'Negative', 1: 'Neutral', 2: 'Positive'}"
      ]
     },
     "execution_count": 6,
     "metadata": {},
     "output_type": "execute_result"
    }
   ],
   "source": [
    "INDEX2ENTITY = return_index2label(ENTITY2INDEX)\n",
    "INDEX2SA = return_index2label(SA2INDEX)\n",
    "INDEX2SA"
   ]
  },
  {
   "cell_type": "code",
   "execution_count": null,
   "metadata": {},
   "outputs": [],
   "source": []
  }
 ],
 "metadata": {
  "kernelspec": {
   "display_name": "env",
   "language": "python",
   "name": "python3"
  },
  "language_info": {
   "codemirror_mode": {
    "name": "ipython",
    "version": 3
   },
   "file_extension": ".py",
   "mimetype": "text/x-python",
   "name": "python",
   "nbconvert_exporter": "python",
   "pygments_lexer": "ipython3",
   "version": "3.12.4"
  }
 },
 "nbformat": 4,
 "nbformat_minor": 2
}
