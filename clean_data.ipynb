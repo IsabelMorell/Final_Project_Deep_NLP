{
 "cells": [
  {
   "cell_type": "code",
   "execution_count": 41,
   "metadata": {},
   "outputs": [],
   "source": [
    "# import libraries\n",
    "from torch.utils.data import Dataset, DataLoader\n",
    "from datasets import load_dataset\n",
    "from torch.nn.utils.rnn import pad_sequence\n",
    "import pandas as pd\n",
    "import numpy as np\n",
    "import torch\n",
    "import os\n",
    "import spacy\n",
    "import re\n",
    "from typing import Tuple, Any, List"
   ]
  },
  {
   "cell_type": "code",
   "execution_count": 42,
   "metadata": {},
   "outputs": [],
   "source": [
    "device = torch.device(\"cuda\") if torch.cuda.is_available() else torch.device(\"cpu\")"
   ]
  },
  {
   "cell_type": "code",
   "execution_count": 43,
   "metadata": {},
   "outputs": [],
   "source": [
    "df_train = pd.read_csv(\"data/train.csv\")\n",
    "df_val = pd.read_csv(\"data/val.csv\")\n",
    "df_test = pd.read_csv(\"data/test.csv\")"
   ]
  },
  {
   "cell_type": "code",
   "execution_count": 46,
   "metadata": {},
   "outputs": [],
   "source": [
    "import spacy\n",
    "import re\n",
    "\n",
    "nlp = spacy.load(\"en_core_web_sm\")\n",
    "\n",
    "CONTRACTIONS = {\n",
    "    \"n't\": \"not\", \"'ll\": \"will\", \"'re\": \"are\", \"'ve\": \"have\", \"'m\": \"am\", \n",
    "    \"'d\": \"would\", \"'s\": \"is\", \"won't\": \"will not\", \"can't\": \"cannot\"\n",
    "}\n",
    "IRRELEVANT_WORDS = {\"wow\", \"oops\", \"ah\", \"ugh\", \"yay\", \"mhm\", \"`\"}\n",
    "\n",
    "\n",
    "import re\n",
    "\n",
    "def fix_tags_string(x):\n",
    "    if isinstance(x, str):\n",
    "        # Reemplaza múltiples espacios o tabs con una coma\n",
    "        x_clean = re.sub(r\"\\s+\", \",\", x.strip())\n",
    "        # Divide por coma y elimina los elementos vacíos\n",
    "        nums = [int(n) for n in x_clean.strip(\"[]\").split(\",\") if n.strip() != \"\"]\n",
    "        return nums\n",
    "    return x  # Si ya es lista o algo raro, lo deja igual\n",
    "\n",
    "\n",
    "df_train[\"tags\"] = df_train[\"tags\"].apply(fix_tags_string)\n",
    "df_val[\"tags\"] = df_val[\"tags\"].apply(fix_tags_string)\n",
    "df_test[\"tags\"] = df_test[\"tags\"].apply(fix_tags_string)\n",
    "\n",
    "def replace_contractions(text):\n",
    "    for contraction, replacement in CONTRACTIONS.items():\n",
    "        text = re.sub(r\"\\b\" + re.escape(contraction) + r\"\\b\", replacement, text)\n",
    "    return text\n",
    "\n",
    "def process_sentence_and_align_tags(sentence, original_tags):\n",
    "    sentence = replace_contractions(sentence)\n",
    "    sentence = sentence.replace(\"-\", \"\")\n",
    "    doc = nlp(sentence)\n",
    "\n",
    "    processed_tokens = []\n",
    "    aligned_tags = []\n",
    "\n",
    "    tag_idx = 0\n",
    "    for token in doc:\n",
    "        if token.is_punct or token.is_space or token.text.lower() in IRRELEVANT_WORDS:\n",
    "            tag_idx += 1  # Skip both token and its tag\n",
    "            continue\n",
    "        if token.is_stop:\n",
    "            tag_idx += 1\n",
    "            continue\n",
    "\n",
    "        processed_tokens.append(token.lemma_)\n",
    "\n",
    "        if tag_idx < len(original_tags):\n",
    "            aligned_tags.append(original_tags[tag_idx])\n",
    "            tag_idx += 1\n",
    "        else:\n",
    "            # If a new token was added from contraction expansion or similar, assign tag 0\n",
    "            aligned_tags.append(0)\n",
    "\n",
    "    return processed_tokens, aligned_tags\n",
    "\n",
    "df_train[[\"tokens\", \"tags\"]] = df_train.apply(\n",
    "    lambda row: pd.Series(process_sentence_and_align_tags(row[\"sentence\"], row[\"tags\"])), axis=1\n",
    ")\n",
    "df_val[[\"tokens\", \"tags\"]] = df_val.apply(\n",
    "    lambda row: pd.Series(process_sentence_and_align_tags(row[\"sentence\"], row[\"tags\"])), axis=1\n",
    ")\n",
    "df_test[[\"tokens\", \"tags\"]] = df_test.apply(\n",
    "    lambda row: pd.Series(process_sentence_and_align_tags(row[\"sentence\"], row[\"tags\"])), axis=1\n",
    ")\n",
    "\n"
   ]
  },
  {
   "cell_type": "code",
   "execution_count": 64,
   "metadata": {},
   "outputs": [],
   "source": [
    "df_train.to_csv(f\"data/train_token.csv\",index=False)\n",
    "df_test.to_csv(f\"data/test_token.csv\",index=False)\n",
    "df_val.to_csv(f\"data/val_token.csv\",index=False)"
   ]
  },
  {
   "cell_type": "code",
   "execution_count": 65,
   "metadata": {},
   "outputs": [],
   "source": [
    "glove = spacy.load('en_core_web_lg') "
   ]
  },
  {
   "cell_type": "code",
   "execution_count": 66,
   "metadata": {},
   "outputs": [
    {
     "name": "stdout",
     "output_type": "stream",
     "text": [
      "tensor([520871, 366396, 700279])\n"
     ]
    }
   ],
   "source": [
    "# Crear diccionario word -> index\n",
    "word_to_index = {word: i for i, word in enumerate(glove.vocab.strings)}\n",
    "\n",
    "def word2idx(embedding_dict, tweet):\n",
    "    indices = [embedding_dict[word] for word in tweet if word in embedding_dict]\n",
    "    return torch.tensor(indices) if indices else torch.tensor([])\n",
    "\n",
    "# Prueba\n",
    "print(word2idx(word_to_index, [\"hello\", \"Teresa\", \"world\"]))"
   ]
  },
  {
   "cell_type": "code",
   "execution_count": 67,
   "metadata": {},
   "outputs": [],
   "source": [
    "class OntoNotesDataset(Dataset):\n",
    "    def __init__(self, df: pd.DataFrame):\n",
    "        self.tokens = df[\"tokens\"].tolist()\n",
    "\n",
    "        df[\"tags\"] = pd.to_numeric(df[\"tags\"], errors=\"coerce\") \n",
    "        df[\"tags\"].fillna(0, inplace=True)  \n",
    "        df[\"tags\"] = df[\"tags\"].astype(int)\n",
    "        self.tags: torch.Tensor = torch.tensor(df[\"tags\"].values, dtype=torch.float32)\n",
    "        \n",
    "        self.SA: torch.Tensor = torch.tensor(df[\"SA\"].values, dtype=torch.int)\n",
    "\n",
    "    def __len__(self) -> int:\n",
    "        \"\"\"Returns the length of the dataset.\"\"\"\n",
    "        # TODO: Complete the len function\n",
    "        return len(self.tokens)\n",
    "\n",
    "    def __getitem__(self, idx: int) -> Tuple[List[str], torch.Tensor, torch.Tensor]:\n",
    "        \n",
    "        # TODO: Complete the getitem function\n",
    "        token: str = self.tokens[idx]\n",
    "        tag: torch.Tensor = self.tags[idx]\n",
    "        sa: torch.Tensor = self.SA[idx]\n",
    "        return token, tag, sa"
   ]
  },
  {
   "cell_type": "code",
   "execution_count": 70,
   "metadata": {},
   "outputs": [],
   "source": [
    "def collate_fn(batch) -> Tuple[torch.Tensor, torch.Tensor, torch.Tensor]:\n",
    "    \n",
    "    glove = spacy.load('en_core_web_lg')\n",
    "    word_to_index = {word: i for i, word in enumerate(glove.vocab.strings)} \n",
    "\n",
    "    # Ordenar por longitud de la secuencia (descendente)\n",
    "    batch = sorted(batch, key=lambda x: len(x[0]), reverse=True)\n",
    "    texts, labels, sa = zip(*batch)\n",
    "\n",
    "    # Convertir palabras a índices\n",
    "    texts_indx = [word2idx(word_to_index, text) for text in texts if word2idx(word_to_index, text).nelement() > 0]\n",
    "\n",
    "    # Longitudes de cada secuencia\n",
    "    lengths = torch.tensor([len(text) for text in texts_indx], dtype=torch.long)\n",
    "\n",
    "    # Padding a la misma longitud\n",
    "    texts_padded = pad_sequence(texts_indx, batch_first=True, padding_value=0)\n",
    "    tags_padded = pad_sequence(labels, batch_first=True, padding_value=0)\n",
    "\n",
    "    # Convertir labels a tensor\n",
    "    labels = torch.tensor(labels[:len(texts_indx)], dtype=torch.int)\n",
    "\n",
    "    return texts_padded, tags_padded, sa, lengths"
   ]
  },
  {
   "cell_type": "code",
   "execution_count": 71,
   "metadata": {},
   "outputs": [
    {
     "data": {
      "text/plain": [
       "0    0\n",
       "1    0\n",
       "2    0\n",
       "3    0\n",
       "4    0\n",
       "5    0\n",
       "6    0\n",
       "7    0\n",
       "8    0\n",
       "9    0\n",
       "Name: tags, dtype: int64"
      ]
     },
     "execution_count": 71,
     "metadata": {},
     "output_type": "execute_result"
    }
   ],
   "source": [
    "df_train[\"tags\"].head(10)"
   ]
  },
  {
   "cell_type": "code",
   "execution_count": 53,
   "metadata": {},
   "outputs": [],
   "source": [
    "df_train = pd.read_csv(\"data/train_token.csv\")\n",
    "df_val = pd.read_csv(\"data/val_token.csv\")\n",
    "df_test = pd.read_csv(\"data/test_token.csv\")\n",
    "\n",
    "tr_dataset = OntoNotesDataset(df_train)\n",
    "vl_dataset = OntoNotesDataset(df_val)\n",
    "ts_dataset = OntoNotesDataset(df_test)"
   ]
  },
  {
   "cell_type": "code",
   "execution_count": 57,
   "metadata": {},
   "outputs": [],
   "source": [
    "batch_size = 64\n",
    "\n",
    "train_dataloader: DataLoader = DataLoader(tr_dataset, batch_size=batch_size, shuffle=True, collate_fn=collate_fn, drop_last=True)\n",
    "val_dataloader: DataLoader = DataLoader(vl_dataset, batch_size=batch_size, shuffle=True, collate_fn=collate_fn, drop_last=True)\n",
    "test_dataloader: DataLoader = DataLoader(ts_dataset, batch_size=batch_size, shuffle=True, collate_fn=collate_fn, drop_last=True)"
   ]
  },
  {
   "cell_type": "code",
   "execution_count": 58,
   "metadata": {},
   "outputs": [
    {
     "ename": "RuntimeError",
     "evalue": "ArrayRef: invalid slice, N = 1; size = 0",
     "output_type": "error",
     "traceback": [
      "\u001b[0;31m---------------------------------------------------------------------------\u001b[0m",
      "\u001b[0;31mRuntimeError\u001b[0m                              Traceback (most recent call last)",
      "Cell \u001b[0;32mIn[58], line 2\u001b[0m\n\u001b[1;32m      1\u001b[0m i \u001b[38;5;241m=\u001b[39m \u001b[38;5;241m0\u001b[39m\n\u001b[0;32m----> 2\u001b[0m \u001b[38;5;28;01mfor\u001b[39;00m inputs, tags, sa, lengths \u001b[38;5;129;01min\u001b[39;00m train_dataloader:\n\u001b[1;32m      3\u001b[0m     \u001b[38;5;28mprint\u001b[39m(inputs)\n\u001b[1;32m      4\u001b[0m     \u001b[38;5;28mprint\u001b[39m(sa)\n",
      "File \u001b[0;32m~/opt/anaconda3/lib/python3.9/site-packages/torch/utils/data/dataloader.py:630\u001b[0m, in \u001b[0;36m_BaseDataLoaderIter.__next__\u001b[0;34m(self)\u001b[0m\n\u001b[1;32m    627\u001b[0m \u001b[38;5;28;01mif\u001b[39;00m \u001b[38;5;28mself\u001b[39m\u001b[38;5;241m.\u001b[39m_sampler_iter \u001b[38;5;129;01mis\u001b[39;00m \u001b[38;5;28;01mNone\u001b[39;00m:\n\u001b[1;32m    628\u001b[0m     \u001b[38;5;66;03m# TODO(https://github.com/pytorch/pytorch/issues/76750)\u001b[39;00m\n\u001b[1;32m    629\u001b[0m     \u001b[38;5;28mself\u001b[39m\u001b[38;5;241m.\u001b[39m_reset()  \u001b[38;5;66;03m# type: ignore[call-arg]\u001b[39;00m\n\u001b[0;32m--> 630\u001b[0m data \u001b[38;5;241m=\u001b[39m \u001b[38;5;28;43mself\u001b[39;49m\u001b[38;5;241;43m.\u001b[39;49m\u001b[43m_next_data\u001b[49m\u001b[43m(\u001b[49m\u001b[43m)\u001b[49m\n\u001b[1;32m    631\u001b[0m \u001b[38;5;28mself\u001b[39m\u001b[38;5;241m.\u001b[39m_num_yielded \u001b[38;5;241m+\u001b[39m\u001b[38;5;241m=\u001b[39m \u001b[38;5;241m1\u001b[39m\n\u001b[1;32m    632\u001b[0m \u001b[38;5;28;01mif\u001b[39;00m \u001b[38;5;28mself\u001b[39m\u001b[38;5;241m.\u001b[39m_dataset_kind \u001b[38;5;241m==\u001b[39m _DatasetKind\u001b[38;5;241m.\u001b[39mIterable \u001b[38;5;129;01mand\u001b[39;00m \\\n\u001b[1;32m    633\u001b[0m         \u001b[38;5;28mself\u001b[39m\u001b[38;5;241m.\u001b[39m_IterableDataset_len_called \u001b[38;5;129;01mis\u001b[39;00m \u001b[38;5;129;01mnot\u001b[39;00m \u001b[38;5;28;01mNone\u001b[39;00m \u001b[38;5;129;01mand\u001b[39;00m \\\n\u001b[1;32m    634\u001b[0m         \u001b[38;5;28mself\u001b[39m\u001b[38;5;241m.\u001b[39m_num_yielded \u001b[38;5;241m>\u001b[39m \u001b[38;5;28mself\u001b[39m\u001b[38;5;241m.\u001b[39m_IterableDataset_len_called:\n",
      "File \u001b[0;32m~/opt/anaconda3/lib/python3.9/site-packages/torch/utils/data/dataloader.py:674\u001b[0m, in \u001b[0;36m_SingleProcessDataLoaderIter._next_data\u001b[0;34m(self)\u001b[0m\n\u001b[1;32m    672\u001b[0m \u001b[38;5;28;01mdef\u001b[39;00m \u001b[38;5;21m_next_data\u001b[39m(\u001b[38;5;28mself\u001b[39m):\n\u001b[1;32m    673\u001b[0m     index \u001b[38;5;241m=\u001b[39m \u001b[38;5;28mself\u001b[39m\u001b[38;5;241m.\u001b[39m_next_index()  \u001b[38;5;66;03m# may raise StopIteration\u001b[39;00m\n\u001b[0;32m--> 674\u001b[0m     data \u001b[38;5;241m=\u001b[39m \u001b[38;5;28;43mself\u001b[39;49m\u001b[38;5;241;43m.\u001b[39;49m\u001b[43m_dataset_fetcher\u001b[49m\u001b[38;5;241;43m.\u001b[39;49m\u001b[43mfetch\u001b[49m\u001b[43m(\u001b[49m\u001b[43mindex\u001b[49m\u001b[43m)\u001b[49m  \u001b[38;5;66;03m# may raise StopIteration\u001b[39;00m\n\u001b[1;32m    675\u001b[0m     \u001b[38;5;28;01mif\u001b[39;00m \u001b[38;5;28mself\u001b[39m\u001b[38;5;241m.\u001b[39m_pin_memory:\n\u001b[1;32m    676\u001b[0m         data \u001b[38;5;241m=\u001b[39m _utils\u001b[38;5;241m.\u001b[39mpin_memory\u001b[38;5;241m.\u001b[39mpin_memory(data, \u001b[38;5;28mself\u001b[39m\u001b[38;5;241m.\u001b[39m_pin_memory_device)\n",
      "File \u001b[0;32m~/opt/anaconda3/lib/python3.9/site-packages/torch/utils/data/_utils/fetch.py:54\u001b[0m, in \u001b[0;36m_MapDatasetFetcher.fetch\u001b[0;34m(self, possibly_batched_index)\u001b[0m\n\u001b[1;32m     52\u001b[0m \u001b[38;5;28;01melse\u001b[39;00m:\n\u001b[1;32m     53\u001b[0m     data \u001b[38;5;241m=\u001b[39m \u001b[38;5;28mself\u001b[39m\u001b[38;5;241m.\u001b[39mdataset[possibly_batched_index]\n\u001b[0;32m---> 54\u001b[0m \u001b[38;5;28;01mreturn\u001b[39;00m \u001b[38;5;28;43mself\u001b[39;49m\u001b[38;5;241;43m.\u001b[39;49m\u001b[43mcollate_fn\u001b[49m\u001b[43m(\u001b[49m\u001b[43mdata\u001b[49m\u001b[43m)\u001b[49m\n",
      "Cell \u001b[0;32mIn[51], line 18\u001b[0m, in \u001b[0;36mcollate_fn\u001b[0;34m(batch)\u001b[0m\n\u001b[1;32m     16\u001b[0m \u001b[38;5;66;03m# Padding a la misma longitud\u001b[39;00m\n\u001b[1;32m     17\u001b[0m texts_padded \u001b[38;5;241m=\u001b[39m pad_sequence(texts_indx, batch_first\u001b[38;5;241m=\u001b[39m\u001b[38;5;28;01mTrue\u001b[39;00m, padding_value\u001b[38;5;241m=\u001b[39m\u001b[38;5;241m0\u001b[39m)\n\u001b[0;32m---> 18\u001b[0m tags_padded \u001b[38;5;241m=\u001b[39m \u001b[43mpad_sequence\u001b[49m\u001b[43m(\u001b[49m\u001b[43mlabels\u001b[49m\u001b[43m,\u001b[49m\u001b[43m \u001b[49m\u001b[43mbatch_first\u001b[49m\u001b[38;5;241;43m=\u001b[39;49m\u001b[38;5;28;43;01mTrue\u001b[39;49;00m\u001b[43m,\u001b[49m\u001b[43m \u001b[49m\u001b[43mpadding_value\u001b[49m\u001b[38;5;241;43m=\u001b[39;49m\u001b[38;5;241;43m0\u001b[39;49m\u001b[43m)\u001b[49m\n\u001b[1;32m     20\u001b[0m \u001b[38;5;66;03m# Convertir labels a tensor\u001b[39;00m\n\u001b[1;32m     21\u001b[0m labels \u001b[38;5;241m=\u001b[39m torch\u001b[38;5;241m.\u001b[39mtensor(labels[:\u001b[38;5;28mlen\u001b[39m(texts_indx)], dtype\u001b[38;5;241m=\u001b[39mtorch\u001b[38;5;241m.\u001b[39mint)\n",
      "File \u001b[0;32m~/opt/anaconda3/lib/python3.9/site-packages/torch/nn/utils/rnn.py:400\u001b[0m, in \u001b[0;36mpad_sequence\u001b[0;34m(sequences, batch_first, padding_value)\u001b[0m\n\u001b[1;32m    396\u001b[0m         sequences \u001b[38;5;241m=\u001b[39m sequences\u001b[38;5;241m.\u001b[39munbind(\u001b[38;5;241m0\u001b[39m)\n\u001b[1;32m    398\u001b[0m \u001b[38;5;66;03m# assuming trailing dimensions and type of all the Tensors\u001b[39;00m\n\u001b[1;32m    399\u001b[0m \u001b[38;5;66;03m# in sequences are same and fetching those from sequences[0]\u001b[39;00m\n\u001b[0;32m--> 400\u001b[0m \u001b[38;5;28;01mreturn\u001b[39;00m \u001b[43mtorch\u001b[49m\u001b[38;5;241;43m.\u001b[39;49m\u001b[43m_C\u001b[49m\u001b[38;5;241;43m.\u001b[39;49m\u001b[43m_nn\u001b[49m\u001b[38;5;241;43m.\u001b[39;49m\u001b[43mpad_sequence\u001b[49m\u001b[43m(\u001b[49m\u001b[43msequences\u001b[49m\u001b[43m,\u001b[49m\u001b[43m \u001b[49m\u001b[43mbatch_first\u001b[49m\u001b[43m,\u001b[49m\u001b[43m \u001b[49m\u001b[43mpadding_value\u001b[49m\u001b[43m)\u001b[49m\n",
      "\u001b[0;31mRuntimeError\u001b[0m: ArrayRef: invalid slice, N = 1; size = 0"
     ]
    }
   ],
   "source": [
    "i = 0\n",
    "for inputs, tags, sa, lengths in train_dataloader:\n",
    "    print(inputs)\n",
    "    print(sa)\n",
    "    print(tags)\n",
    "\n",
    "    i += 1\n",
    "    if i == 6:\n",
    "        break\n",
    "\n"
   ]
  },
  {
   "cell_type": "code",
   "execution_count": 61,
   "metadata": {},
   "outputs": [
    {
     "data": {
      "text/plain": [
       "0"
      ]
     },
     "execution_count": 61,
     "metadata": {},
     "output_type": "execute_result"
    }
   ],
   "source": [
    "df_test[\"tags\"].isnull().sum()  # Revisa si hay valores nulos\n"
   ]
  }
 ],
 "metadata": {
  "kernelspec": {
   "display_name": "base",
   "language": "python",
   "name": "python3"
  },
  "language_info": {
   "codemirror_mode": {
    "name": "ipython",
    "version": 3
   },
   "file_extension": ".py",
   "mimetype": "text/x-python",
   "name": "python",
   "nbconvert_exporter": "python",
   "pygments_lexer": "ipython3",
   "version": "3.9.12"
  }
 },
 "nbformat": 4,
 "nbformat_minor": 2
}
