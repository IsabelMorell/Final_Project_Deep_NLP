{
 "cells": [
  {
   "cell_type": "code",
   "execution_count": 24,
   "metadata": {},
   "outputs": [],
   "source": [
    "# import libraries\n",
    "from torch.utils.data import Dataset, DataLoader\n",
    "from datasets import load_dataset\n",
    "from torch.nn.utils.rnn import pad_sequence\n",
    "import pandas as pd\n",
    "import numpy as np\n",
    "import torch\n",
    "import os\n",
    "import spacy\n",
    "import re\n",
    "from typing import Tuple, Any, List"
   ]
  },
  {
   "cell_type": "code",
   "execution_count": 2,
   "metadata": {},
   "outputs": [],
   "source": [
    "device = torch.device(\"cuda\") if torch.cuda.is_available() else torch.device(\"cpu\")"
   ]
  },
  {
   "cell_type": "code",
   "execution_count": 5,
   "metadata": {},
   "outputs": [],
   "source": [
    "df_train = pd.read_csv(\"data/train.csv\")\n",
    "df_val = pd.read_csv(\"data/val.csv\")\n",
    "df_test = pd.read_csv(\"data/test.csv\")"
   ]
  },
  {
   "cell_type": "code",
   "execution_count": 7,
   "metadata": {},
   "outputs": [],
   "source": [
    "nlp = spacy.load(\"en_core_web_sm\")\n",
    "\n",
    "CONTRACTIONS = {\n",
    "    \"n't\": \"not\", \n",
    "    \"'ll\": \"will\", \n",
    "    \"'re\": \"are\", \n",
    "    \"'ve\": \"have\", \n",
    "    \"'m\": \"am\", \n",
    "    \"'d\": \"would\", \n",
    "    \"'s\": \"is\", \n",
    "    \"won't\": \"will not\", \n",
    "    \"can't\": \"cannot\"\n",
    "}\n",
    "IRRELEVANT_WORDS = {\"wow\", \"oops\", \"ah\", \"ugh\", \"yay\", \"mhm\", \"`\"}\n",
    "\n",
    "def replace_contractions(text):\n",
    "    for contraction, replacement in CONTRACTIONS.items():\n",
    "        text = re.sub(r\"\\b\" + re.escape(contraction) + r\"\\b\", replacement, text)\n",
    "    return text\n",
    "\n",
    "def process_tokens(text):\n",
    "    text = replace_contractions(text)\n",
    "    text = text.replace(\"-\", \"\")\n",
    "    # Crear un objeto Doc de spaCy para cada palabra\n",
    "    doc = nlp(text)  # Unir las palabras en una cadena y procesarlas con spaCy\n",
    "    \n",
    "    # Filtrar tokens: eliminar puntuación, stopwords y lematizar\n",
    "    processed_words = [token.lemma_ for token in doc if not token.is_stop and not token.is_punct and token.text.lower() not in IRRELEVANT_WORDS]\n",
    "    \n",
    "    return processed_words\n",
    "\n",
    "df_train[\"tokens\"] = df_train[\"sentence\"].apply(process_tokens)\n",
    "df_test[\"tokens\"] = df_test[\"sentence\"].apply(process_tokens)\n",
    "df_val[\"tokens\"] = df_val[\"sentence\"].apply(process_tokens)"
   ]
  },
  {
   "cell_type": "code",
   "execution_count": 8,
   "metadata": {},
   "outputs": [],
   "source": [
    "df_train.to_csv(f\"data/train_token.csv\",index=False)\n",
    "df_test.to_csv(f\"data/test_token.csv\",index=False)\n",
    "df_val.to_csv(f\"data/val_token.csv\",index=False)"
   ]
  },
  {
   "cell_type": "code",
   "execution_count": 16,
   "metadata": {},
   "outputs": [],
   "source": [
    "glove = spacy.load('en_core_web_lg') "
   ]
  },
  {
   "cell_type": "code",
   "execution_count": 18,
   "metadata": {},
   "outputs": [
    {
     "name": "stdout",
     "output_type": "stream",
     "text": [
      "tensor([520871, 366396, 700279])\n"
     ]
    }
   ],
   "source": [
    "# Crear diccionario word -> index\n",
    "word_to_index = {word: i for i, word in enumerate(glove.vocab.strings)}\n",
    "\n",
    "def word2idx(embedding_dict, tweet):\n",
    "    indices = [embedding_dict[word] for word in tweet if word in embedding_dict]\n",
    "    return torch.tensor(indices) if indices else torch.tensor([])\n",
    "\n",
    "# Prueba\n",
    "print(word2idx(word_to_index, [\"hello\", \"Teresa\", \"world\"]))"
   ]
  },
  {
   "cell_type": "code",
   "execution_count": null,
   "metadata": {},
   "outputs": [],
   "source": [
    "class OntoNotesDataset(Dataset):\n",
    "    \"\"\"\n",
    "    A PyTorch Dataset for the TweepFake dataset.\n",
    "\n",
    "    Attributes:\n",
    "        texts (List[List[str]]): List of tweets tokens.\n",
    "        targets (List[str]): List of target labels.\n",
    "    \"\"\"\n",
    "\n",
    "    def __init__(self,\n",
    "                 texts: List[List[str]],\n",
    "                 targets: List[int]\n",
    "                 ):\n",
    "        \"\"\"\n",
    "        Initializes the TweepFakeDataset with the given file path.\n",
    "\n",
    "        Args:\n",
    "            texts (List[List[str]]): List of tweets tokens.\n",
    "            targets (List[str]): List of target labels.\n",
    "        \"\"\"\n",
    "        # TODO: Complete the init function\n",
    "        self.texts = texts\n",
    "        self.targets = targets\n",
    "\n",
    "    def __len__(self) -> int:\n",
    "        \"\"\"Returns the length of the dataset.\"\"\"\n",
    "        # TODO: Complete the len function\n",
    "        return len(self.texts)\n",
    "\n",
    "    def __getitem__(self, idx: int) -> Tuple[List[List[str]], List[int]]:\n",
    "        \"\"\"\n",
    "        Returns the embedded tensor and target for the text at the specified index.\n",
    "\n",
    "        Args:\n",
    "            idx (int): Index of the item.\n",
    "\n",
    "        Returns:\n",
    "            Tuple[List[str], List[int]]: A tuple containing the texts and the target label for idx.\n",
    "        \"\"\"\n",
    "        # TODO: Complete the getitem function\n",
    "        text: str = self.texts[idx]\n",
    "        target: int = self.targets[idx]\n",
    "        return text, target"
   ]
  },
  {
   "cell_type": "code",
   "execution_count": 26,
   "metadata": {},
   "outputs": [],
   "source": [
    "def collate_fn(batch: List[Tuple[List[str], int]]) -> Tuple[torch.Tensor, torch.Tensor, torch.Tensor]:\n",
    "    \"\"\"\n",
    "    Prepares and returns a batch for training/testing in a torch model.\n",
    "\n",
    "    This function sorts the batch by the length of the text sequences in descending order,\n",
    "    tokenizes the text using a pre-defined word-to-index mapping, pads the sequences to have\n",
    "    uniform length, and converts labels to tensor.\n",
    "\n",
    "    Args:\n",
    "        batch (List[Tuple[List[str], int]]): A list of tuples, where each tuple contains a\n",
    "                                             list of words (representing a text) and an integer label.\n",
    "\n",
    "    Returns:\n",
    "        Tuple[torch.Tensor, torch.Tensor, torch.Tensor]: A tuple containing three elements:\n",
    "            - texts_padded (torch.Tensor): A tensor of padded word indices of the text.\n",
    "            - labels (torch.Tensor): A tensor of labels.\n",
    "            - lengths (torch.Tensor): A tensor representing the lengths of each text sequence.\n",
    "    \"\"\"\n",
    "    glove = spacy.load('en_core_web_lg')\n",
    "    word_to_index = {word: i for i, word in enumerate(glove.vocab.strings)} \n",
    "\n",
    "    # Ordenar por longitud de la secuencia (descendente)\n",
    "    batch = sorted(batch, key=lambda x: len(x[0]), reverse=True)\n",
    "    texts, labels = zip(*batch)\n",
    "\n",
    "    # Convertir palabras a índices\n",
    "    texts_indx = [word2idx(word_to_index, text) for text in texts if word2idx(word_to_index, text).nelement() > 0]\n",
    "\n",
    "    # Longitudes de cada secuencia\n",
    "    lengths = torch.tensor([len(text) for text in texts_indx], dtype=torch.long)\n",
    "\n",
    "    # Padding a la misma longitud\n",
    "    texts_padded = pad_sequence(texts_indx, batch_first=True, padding_value=0)\n",
    "\n",
    "    # Convertir labels a tensor\n",
    "    labels = torch.tensor(labels[:len(texts_indx)], dtype=torch.int)\n",
    "\n",
    "    return texts_padded, labels, lengths"
   ]
  },
  {
   "cell_type": "code",
   "execution_count": null,
   "metadata": {},
   "outputs": [],
   "source": []
  },
  {
   "cell_type": "code",
   "execution_count": null,
   "metadata": {},
   "outputs": [],
   "source": []
  },
  {
   "cell_type": "code",
   "execution_count": null,
   "metadata": {},
   "outputs": [],
   "source": []
  },
  {
   "cell_type": "code",
   "execution_count": null,
   "metadata": {},
   "outputs": [],
   "source": []
  },
  {
   "cell_type": "code",
   "execution_count": null,
   "metadata": {},
   "outputs": [],
   "source": []
  }
 ],
 "metadata": {
  "kernelspec": {
   "display_name": "base",
   "language": "python",
   "name": "python3"
  },
  "language_info": {
   "codemirror_mode": {
    "name": "ipython",
    "version": 3
   },
   "file_extension": ".py",
   "mimetype": "text/x-python",
   "name": "python",
   "nbconvert_exporter": "python",
   "pygments_lexer": "ipython3",
   "version": "3.9.12"
  }
 },
 "nbformat": 4,
 "nbformat_minor": 2
}
