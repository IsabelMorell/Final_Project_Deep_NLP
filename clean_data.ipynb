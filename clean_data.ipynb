{
 "cells": [
  {
   "cell_type": "code",
   "execution_count": 24,
   "metadata": {},
   "outputs": [],
   "source": [
    "# import libraries\n",
    "from torch.utils.data import Dataset, DataLoader\n",
    "from datasets import load_dataset\n",
    "from torch.nn.utils.rnn import pad_sequence\n",
    "import pandas as pd\n",
    "import numpy as np\n",
    "import torch\n",
    "import os\n",
    "import spacy\n",
    "import re\n",
    "from typing import Tuple, Any, List"
   ]
  },
  {
   "cell_type": "code",
   "execution_count": 2,
   "metadata": {},
   "outputs": [],
   "source": [
    "device = torch.device(\"cuda\") if torch.cuda.is_available() else torch.device(\"cpu\")"
   ]
  },
  {
   "cell_type": "code",
   "execution_count": 5,
   "metadata": {},
   "outputs": [],
   "source": [
    "df_train = pd.read_csv(\"data/train.csv\")\n",
    "df_val = pd.read_csv(\"data/val.csv\")\n",
    "df_test = pd.read_csv(\"data/test.csv\")"
   ]
  },
  {
   "cell_type": "code",
   "execution_count": 7,
   "metadata": {},
   "outputs": [],
   "source": [
    "nlp = spacy.load(\"en_core_web_sm\")\n",
    "\n",
    "CONTRACTIONS = {\n",
    "    \"n't\": \"not\", \n",
    "    \"'ll\": \"will\", \n",
    "    \"'re\": \"are\", \n",
    "    \"'ve\": \"have\", \n",
    "    \"'m\": \"am\", \n",
    "    \"'d\": \"would\", \n",
    "    \"'s\": \"is\", \n",
    "    \"won't\": \"will not\", \n",
    "    \"can't\": \"cannot\"\n",
    "}\n",
    "IRRELEVANT_WORDS = {\"wow\", \"oops\", \"ah\", \"ugh\", \"yay\", \"mhm\", \"`\"}\n",
    "\n",
    "def replace_contractions(text):\n",
    "    for contraction, replacement in CONTRACTIONS.items():\n",
    "        text = re.sub(r\"\\b\" + re.escape(contraction) + r\"\\b\", replacement, text)\n",
    "    return text\n",
    "\n",
    "def process_tokens(text):\n",
    "    text = replace_contractions(text)\n",
    "    text = text.replace(\"-\", \"\")\n",
    "    # Crear un objeto Doc de spaCy para cada palabra\n",
    "    doc = nlp(text)  # Unir las palabras en una cadena y procesarlas con spaCy\n",
    "    \n",
    "    # Filtrar tokens: eliminar puntuación, stopwords y lematizar\n",
    "    processed_words = [token.lemma_ for token in doc if not token.is_stop and not token.is_punct and token.text.lower() not in IRRELEVANT_WORDS]\n",
    "    \n",
    "    return processed_words\n",
    "\n",
    "df_train[\"tokens\"] = df_train[\"sentence\"].apply(process_tokens)\n",
    "df_test[\"tokens\"] = df_test[\"sentence\"].apply(process_tokens)\n",
    "df_val[\"tokens\"] = df_val[\"sentence\"].apply(process_tokens)"
   ]
  },
  {
   "cell_type": "code",
   "execution_count": 8,
   "metadata": {},
   "outputs": [],
   "source": [
    "df_train.to_csv(f\"data/train_token.csv\",index=False)\n",
    "df_test.to_csv(f\"data/test_token.csv\",index=False)\n",
    "df_val.to_csv(f\"data/val_token.csv\",index=False)"
   ]
  },
  {
   "cell_type": "code",
   "execution_count": 16,
   "metadata": {},
   "outputs": [],
   "source": [
    "glove = spacy.load('en_core_web_lg') "
   ]
  },
  {
   "cell_type": "code",
   "execution_count": 18,
   "metadata": {},
   "outputs": [
    {
     "name": "stdout",
     "output_type": "stream",
     "text": [
      "tensor([520871, 366396, 700279])\n"
     ]
    }
   ],
   "source": [
    "# Crear diccionario word -> index\n",
    "word_to_index = {word: i for i, word in enumerate(glove.vocab.strings)}\n",
    "\n",
    "def word2idx(embedding_dict, tweet):\n",
    "    indices = [embedding_dict[word] for word in tweet if word in embedding_dict]\n",
    "    return torch.tensor(indices) if indices else torch.tensor([])\n",
    "\n",
    "# Prueba\n",
    "print(word2idx(word_to_index, [\"hello\", \"Teresa\", \"world\"]))"
   ]
  },
  {
   "cell_type": "code",
   "execution_count": 39,
   "metadata": {},
   "outputs": [],
   "source": [
    "class OntoNotesDataset(Dataset):\n",
    "    def __init__(self, df: pd.DataFrame):\n",
    "        self.tokens = df[\"tokens\"].tolist()\n",
    "\n",
    "        df[\"tags\"] = pd.to_numeric(df[\"tags\"], errors=\"coerce\") \n",
    "        df[\"tags\"].fillna(0, inplace=True)  \n",
    "        df[\"tags\"] = df[\"tags\"].astype(int)\n",
    "        self.tags: torch.Tensor = torch.tensor(df[\"tags\"].values, dtype=torch.float32)\n",
    "        \n",
    "        self.SA: torch.Tensor = torch.tensor(df[\"SA\"].values, dtype=torch.int)\n",
    "\n",
    "    def __len__(self) -> int:\n",
    "        \"\"\"Returns the length of the dataset.\"\"\"\n",
    "        # TODO: Complete the len function\n",
    "        return len(self.tokens)\n",
    "\n",
    "    def __getitem__(self, idx: int) -> Tuple[List[List[str]], List[int]]:\n",
    "        \n",
    "        # TODO: Complete the getitem function\n",
    "        token: str = self.tokens[idx]\n",
    "        tag: torch.Tensor = self.tags[idx]\n",
    "        sa: torch.Tensor = self.SA[idx]\n",
    "        return token, tag, sa"
   ]
  },
  {
   "cell_type": "code",
   "execution_count": null,
   "metadata": {},
   "outputs": [],
   "source": [
    "def collate_fn(batch: List[Tuple[List[str], int]]) -> Tuple[torch.Tensor, torch.Tensor, torch.Tensor]:\n",
    "    \n",
    "    glove = spacy.load('en_core_web_lg')\n",
    "    word_to_index = {word: i for i, word in enumerate(glove.vocab.strings)} \n",
    "\n",
    "    # Ordenar por longitud de la secuencia (descendente)\n",
    "    batch = sorted(batch, key=lambda x: len(x[0]), reverse=True)\n",
    "    texts, labels = zip(*batch)\n",
    "\n",
    "    # Convertir palabras a índices\n",
    "    texts_indx = [word2idx(word_to_index, text) for text in texts if word2idx(word_to_index, text).nelement() > 0]\n",
    "\n",
    "    # Longitudes de cada secuencia\n",
    "    lengths = torch.tensor([len(text) for text in texts_indx], dtype=torch.long)\n",
    "\n",
    "    # Padding a la misma longitud\n",
    "    texts_padded = pad_sequence(texts_indx, batch_first=True, padding_value=0)\n",
    "\n",
    "    # Convertir labels a tensor\n",
    "    labels = torch.tensor(labels[:len(texts_indx)], dtype=torch.int)\n",
    "\n",
    "    return texts_padded, labels, lengths"
   ]
  },
  {
   "cell_type": "code",
   "execution_count": 40,
   "metadata": {},
   "outputs": [
    {
     "data": {
      "text/plain": [
       "0                                  [0 0 0 0 0 0 0 0 0]\n",
       "1                    [0 0 0 0 0 0 0 0 0 0 0 0 1 0 0 0]\n",
       "2                                  [0 0 0 0 0 0 0 0 0]\n",
       "3    [0 0 0 0 0 0 0 0 0 0 0 0 0 0 0 0 0 0 0 0 0 0 0...\n",
       "4    [0 0 0 0 0 0 0 0 0 0 0 0 0 0 0 0 0 0 0 0 0 0 0...\n",
       "5                                        [0 0 0 0 0 0]\n",
       "6    [2 3 0 0 4 5 0 6 0 7 8 0 0 0 0 0 0 0 0 0 0 0 0...\n",
       "7    [0 0 0 0 0 0 0 0 0 0 0 0 0 0 0 0 0 0 0 0 0 0 4...\n",
       "8    [ 0  0  0  0  0  0  0  0  0  0  9 10 10  0  0 ...\n",
       "9    [0 0 0 0 0 0 0 0 0 0 0 0 0 0 0 0 0 4 5 0 0 0 0...\n",
       "Name: tags, dtype: object"
      ]
     },
     "execution_count": 40,
     "metadata": {},
     "output_type": "execute_result"
    }
   ],
   "source": [
    "df_train[\"tags\"].head(10)"
   ]
  },
  {
   "cell_type": "code",
   "execution_count": 41,
   "metadata": {},
   "outputs": [],
   "source": [
    "df_train = pd.read_csv(\"data/train_token.csv\")\n",
    "df_val = pd.read_csv(\"data/val_token.csv\")\n",
    "df_test = pd.read_csv(\"data/test_token.csv\")\n",
    "\n",
    "tr_dataset = OntoNotesDataset(df_train)\n",
    "vl_dataset = OntoNotesDataset(df_val)\n",
    "ts_dataset = OntoNotesDataset(df_test)"
   ]
  },
  {
   "cell_type": "code",
   "execution_count": 43,
   "metadata": {},
   "outputs": [],
   "source": [
    "batch_size = 64\n",
    "\n",
    "train_dataloader: DataLoader = DataLoader(tr_dataset, batch_size=batch_size, shuffle=True, collate_fn=collate_fn)\n",
    "val_dataloader: DataLoader = DataLoader(vl_dataset, batch_size=batch_size, shuffle=True, collate_fn=collate_fn)\n",
    "test_dataloader: DataLoader = DataLoader(ts_dataset, batch_size=batch_size, shuffle=True, collate_fn=collate_fn)"
   ]
  },
  {
   "cell_type": "code",
   "execution_count": null,
   "metadata": {},
   "outputs": [
    {
     "data": {
      "text/plain": [
       "<__main__.OntoNotesDataset at 0x7f8a0689e190>"
      ]
     },
     "execution_count": 46,
     "metadata": {},
     "output_type": "execute_result"
    }
   ],
   "source": []
  },
  {
   "cell_type": "code",
   "execution_count": null,
   "metadata": {},
   "outputs": [],
   "source": []
  },
  {
   "cell_type": "code",
   "execution_count": null,
   "metadata": {},
   "outputs": [],
   "source": []
  }
 ],
 "metadata": {
  "kernelspec": {
   "display_name": "base",
   "language": "python",
   "name": "python3"
  },
  "language_info": {
   "codemirror_mode": {
    "name": "ipython",
    "version": 3
   },
   "file_extension": ".py",
   "mimetype": "text/x-python",
   "name": "python",
   "nbconvert_exporter": "python",
   "pygments_lexer": "ipython3",
   "version": "3.9.12"
  }
 },
 "nbformat": 4,
 "nbformat_minor": 2
}
